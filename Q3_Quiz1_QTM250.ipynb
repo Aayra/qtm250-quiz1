{
  "nbformat": 4,
  "nbformat_minor": 0,
  "metadata": {
    "colab": {
      "name": "Q3_Quiz1_QTM250.ipynb",
      "provenance": [],
      "collapsed_sections": []
    },
    "kernelspec": {
      "name": "python3",
      "display_name": "Python 3"
    },
    "language_info": {
      "name": "python"
    }
  },
  "cells": [
    {
      "cell_type": "code",
      "source": [
        ""
      ],
      "metadata": {
        "id": "HqH6Z5ZsVhDn"
      },
      "execution_count": null,
      "outputs": []
    },
    {
      "cell_type": "markdown",
      "source": [
        "#Q3.\n",
        "## Answer:\n",
        "As someone who is interested in pursuing finance and more specifically interested in the real estate sector, I really liked reading through the \"fred housing\" file in this repository. I guess, in a sense it offered me insight into how I can utilise the skills I'm learning in this class (as opposed to always relying on Excel) for data manipulation and analysis.\n"
      ],
      "metadata": {
        "id": "_pNEzn7BVk8U"
      }
    },
    {
      "cell_type": "code",
      "source": [
        ""
      ],
      "metadata": {
        "id": "Is-uPXGPWZ8g"
      },
      "execution_count": null,
      "outputs": []
    }
  ]
}